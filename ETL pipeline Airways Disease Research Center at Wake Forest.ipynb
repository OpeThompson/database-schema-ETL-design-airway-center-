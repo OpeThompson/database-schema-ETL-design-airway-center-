{
 "cells": [
  {
   "cell_type": "markdown",
   "id": "cd65716c",
   "metadata": {},
   "source": [
    "# Patient Tables"
   ]
  },
  {
   "cell_type": "code",
   "execution_count": null,
   "id": "7f23de87",
   "metadata": {},
   "outputs": [],
   "source": [
    "CREATE TABLE Patients (\n",
    "    patient_id SERIAL PRIMARY KEY,\n",
    "    first_name VARCHAR(50),\n",
    "    last_name VARCHAR(50),\n",
    "    date_of_birth DATE,\n",
    "    gender VARCHAR(10),\n",
    "    diagnosis TEXT,\n",
    "    address VARCHAR(100),\n",
    "    phone_number VARCHAR(20),\n",
    "    email VARCHAR(100),\n",
    "    date_of_registration TIMESTAMP DEFAULT CURRENT_TIMESTAMP\n",
    ");\n"
   ]
  },
  {
   "cell_type": "markdown",
   "id": "c8d6a703",
   "metadata": {},
   "source": [
    "# Research Tables"
   ]
  },
  {
   "cell_type": "code",
   "execution_count": null,
   "id": "80e451e7",
   "metadata": {},
   "outputs": [],
   "source": [
    "CREATE TABLE Researchers (\n",
    "    researcher_id SERIAL PRIMARY KEY,\n",
    "    first_name VARCHAR(50),\n",
    "    last_name VARCHAR(50),\n",
    "    role VARCHAR(50),\n",
    "    department VARCHAR(50),\n",
    "    email VARCHAR(100),\n",
    "    phone_number VARCHAR(20)\n",
    ");\n"
   ]
  },
  {
   "cell_type": "markdown",
   "id": "03e50357",
   "metadata": {},
   "source": [
    "# Clinical Trials Table"
   ]
  },
  {
   "cell_type": "code",
   "execution_count": null,
   "id": "63f09e54",
   "metadata": {},
   "outputs": [],
   "source": [
    "CREATE TABLE Clinical_Trials (\n",
    "    trial_id SERIAL PRIMARY KEY,\n",
    "    trial_name VARCHAR(100),\n",
    "    start_date DATE,\n",
    "    end_date DATE,\n",
    "    researcher_id INT REFERENCES Researchers(researcher_id),\n",
    "    patient_id INT REFERENCES Patients(patient_id),\n",
    "    status VARCHAR(20),\n",
    "    findings TEXT\n",
    ");\n"
   ]
  },
  {
   "cell_type": "markdown",
   "id": "237f1d6f",
   "metadata": {},
   "source": [
    "# Environments Table"
   ]
  },
  {
   "cell_type": "code",
   "execution_count": null,
   "id": "1e1e65f2",
   "metadata": {},
   "outputs": [],
   "source": [
    "# This table stores information about the different database environments (e.g., test, development, QA, production).\n",
    "CREATE TABLE Environments (\n",
    "    environment_id SERIAL PRIMARY KEY,\n",
    "    environment_name VARCHAR(50),\n",
    "    status VARCHAR(20),\n",
    "    last_updated TIMESTAMP DEFAULT CURRENT_TIMESTAMP\n",
    ");\n"
   ]
  },
  {
   "cell_type": "markdown",
   "id": "53fdae79",
   "metadata": {},
   "source": [
    "# User Accounts Table"
   ]
  },
  {
   "cell_type": "code",
   "execution_count": null,
   "id": "6a70e80e",
   "metadata": {},
   "outputs": [],
   "source": [
    "# The User_Accounts table manages user account information and database roles.\n",
    "\n",
    "CREATE TABLE User_Accounts (\n",
    "    user_id SERIAL PRIMARY KEY,\n",
    "    username VARCHAR(50) UNIQUE,\n",
    "    password_hash TEXT,\n",
    "    email VARCHAR(100),\n",
    "    role VARCHAR(20),  -- e.g., 'Admin', 'Researcher', 'DBA'\n",
    "    account_created TIMESTAMP DEFAULT CURRENT_TIMESTAMP,\n",
    "    last_login TIMESTAMP\n",
    ");\n"
   ]
  },
  {
   "cell_type": "markdown",
   "id": "62f50e23",
   "metadata": {},
   "source": [
    "# Access Control Table"
   ]
  },
  {
   "cell_type": "code",
   "execution_count": null,
   "id": "dccbf9aa",
   "metadata": {},
   "outputs": [],
   "source": [
    "# The Access_Control table manages user access control, specifying which users can access which environments and with what privileges.\n",
    "\n",
    "CREATE TABLE Access_Control (\n",
    "    access_id SERIAL PRIMARY KEY,\n",
    "    user_id INT REFERENCES User_Accounts(user_id),\n",
    "    environment_id INT REFERENCES Environments(environment_id),\n",
    "    access_level VARCHAR(20),  -- e.g., 'Read', 'Write', 'Admin'\n",
    "    granted_on TIMESTAMP DEFAULT CURRENT_TIMESTAMP\n",
    ");\n"
   ]
  },
  {
   "cell_type": "markdown",
   "id": "3ccda31c",
   "metadata": {},
   "source": [
    "# Audit Log Table"
   ]
  },
  {
   "cell_type": "code",
   "execution_count": null,
   "id": "fdaa9472",
   "metadata": {},
   "outputs": [],
   "source": [
    "CREATE TABLE Audit_Log (\n",
    "    log_id SERIAL PRIMARY KEY,\n",
    "    user_id INT REFERENCES User_Accounts(user_id),\n",
    "    action VARCHAR(100),\n",
    "    action_time TIMESTAMP DEFAULT CURRENT_TIMESTAMP,\n",
    "    details TEXT\n",
    ");\n"
   ]
  },
  {
   "cell_type": "markdown",
   "id": "ed6636c1",
   "metadata": {},
   "source": [
    "# Password Hashing (bcrypt)"
   ]
  },
  {
   "cell_type": "code",
   "execution_count": null,
   "id": "fd8dd099",
   "metadata": {},
   "outputs": [],
   "source": [
    "# Ensure password security using bcrypt to hash passwords before storing them in the User_Accounts table.\n",
    "\n",
    "import bcrypt\n",
    "\n",
    "# Hash a password for the first time\n",
    "password = \"my_secure_password\"\n",
    "hashed_password = bcrypt.hashpw(password.encode('utf-8'), bcrypt.gensalt())\n",
    "\n",
    "# Check hashed password\n",
    "bcrypt.checkpw(password.encode('utf-8'), hashed_password)\n"
   ]
  },
  {
   "cell_type": "markdown",
   "id": "ff27828b",
   "metadata": {},
   "source": [
    "# ETL Pipeline Script (Python)"
   ]
  },
  {
   "cell_type": "code",
   "execution_count": null,
   "id": "2f72301a",
   "metadata": {},
   "outputs": [],
   "source": [
    "import pandas as pd\n",
    "from sqlalchemy import create_engine\n",
    "\n",
    "# Database connection string (local PostgreSQL)\n",
    "DATABASE_TYPE = 'postgresql'\n",
    "DBAPI = 'psycopg2'\n",
    "ENDPOINT = 'localhost'  # Use cloud endpoint if deploying to cloud\n",
    "USER = 'postgres'\n",
    "PASSWORD = 'your_password'\n",
    "PORT = 5432\n",
    "DATABASE = 'airways_research_center'\n",
    "\n",
    "# Connection to PostgreSQL database\n",
    "engine = create_engine(f\"{DATABASE_TYPE}+{DBAPI}://{USER}:{PASSWORD}@{ENDPOINT}:{PORT}/{DATABASE}\")\n",
    "\n",
    "# Extract: Read CSV files\n",
    "patients_df = pd.read_csv('patients.csv')\n",
    "clinical_trials_df = pd.read_csv('clinical_trials.csv')\n",
    "\n",
    "# Transform: Clean and process the data\n",
    "# (Assume some cleaning if necessary, e.g., removing nulls, fixing formats)\n",
    "\n",
    "# Load: Insert data into PostgreSQL tables\n",
    "patients_df.to_sql('patients', engine, if_exists='append', index=False)\n",
    "clinical_trials_df.to_sql('clinical_trials', engine, if_exists='append', index=False)\n",
    "\n",
    "print(\"Data successfully loaded into PostgreSQL database.\")\n"
   ]
  },
  {
   "cell_type": "markdown",
   "id": "5bd1fcbc",
   "metadata": {},
   "source": [
    "# Setting Up PostgreSQL Database Locally and on Cloud"
   ]
  },
  {
   "cell_type": "code",
   "execution_count": null,
   "id": "31af7def",
   "metadata": {},
   "outputs": [],
   "source": [
    "psql -U postgres\n",
    "CREATE DATABASE airways_research_center;\n",
    "\\connect airways_research_center;\n",
    "\n",
    "\n",
    "ENDPOINT = 'cancercenter-rds-endpoint.amazonaws.com'  # Cloud endpoint"
   ]
  },
  {
   "cell_type": "markdown",
   "id": "bc3d806b",
   "metadata": {},
   "source": [
    "# Performance Tuning for PostgreSQL"
   ]
  },
  {
   "cell_type": "code",
   "execution_count": null,
   "id": "6299b3dc",
   "metadata": {},
   "outputs": [],
   "source": [
    "#indexing: Add indexes to columns frequently used in WHERE clauses to improve query performance.\n",
    "CREATE INDEX idx_patient_id ON Patients(patient_id);\n",
    "CREATE INDEX idx_researcher_id ON Clinical_Trials(researcher_id);\n",
    "\n",
    "#Query Optimization: Use EXPLAIN to analyze and optimize slow queries.\n",
    "EXPLAIN ANALYZE SELECT * FROM Patients WHERE diagnosis = 'Asthma';\n",
    "\n"
   ]
  },
  {
   "cell_type": "markdown",
   "id": "7fab1dc0",
   "metadata": {},
   "source": [
    "# NoSQL Database Setup (MongoDB)"
   ]
  },
  {
   "cell_type": "code",
   "execution_count": null,
   "id": "e074dfe2",
   "metadata": {},
   "outputs": [],
   "source": [
    "#loading data into mongoDB\n",
    "\n",
    "from pymongo import MongoClient\n",
    "import pandas as pd\n",
    "\n",
    "# Connect to MongoDB\n",
    "client = MongoClient(\"mongodb://localhost:27017/\")\n",
    "db = client.airways_research_center\n",
    "\n",
    "# Read CSV data\n",
    "patients_df = pd.read_csv('patients.csv')\n",
    "\n",
    "# Insert records into MongoDB collection\n",
    "db.patients.insert_many(patients_df.to_dict('records'))\n",
    "\n",
    "print(\"Data successfully loaded into MongoDB.\")\n",
    "\n",
    "#If deploying to MongoDB Atlas (cloud-based MongoDB)\n",
    "client = MongoClient('mongodb+srv://<username>:<password>@cluster0.mongodb.net/airways_research_center')\n",
    "\n"
   ]
  },
  {
   "cell_type": "markdown",
   "id": "ff268e6f",
   "metadata": {},
   "source": [
    "# MongoDB Schema for Patients Collection"
   ]
  },
  {
   "cell_type": "code",
   "execution_count": null,
   "id": "d058c0b0",
   "metadata": {},
   "outputs": [],
   "source": [
    "{\n",
    "    \"patient_id\": 1,\n",
    "    \"first_name\": \"David\",\n",
    "    \"last_name\": \"Jones\",\n",
    "    \"date_of_birth\": \"1980-04-15\",\n",
    "    \"gender\": \"Male\",\n",
    "    \"diagnosis\": \"Asthma\",\n",
    "    \"address\": \"123 Maple St, Winston-Salem, NC\",\n",
    "    \"phone_number\": \"(555)-123-4567\",\n",
    "    \"email\": \"david.jones@example.com\",\n",
    "    \"date_of_registration\": \"2024-01-12 10:15:00\"\n",
    "}\n"
   ]
  },
  {
   "cell_type": "markdown",
   "id": "e6be3f59",
   "metadata": {},
   "source": [
    "# CI/CD for Database Deployment"
   ]
  },
  {
   "cell_type": "code",
   "execution_count": null,
   "id": "5695601f",
   "metadata": {},
   "outputs": [],
   "source": [
    "pipeline {\n",
    "    agent any\n",
    "\n",
    "    stages {\n",
    "        stage('Test') {\n",
    "            steps {\n",
    "                echo 'Running tests...'\n",
    "                sh 'pytest tests/'  # Run Python tests for ETL\n",
    "            }\n",
    "        }\n",
    "        \n",
    "        stage('Deploy') {\n",
    "            steps {\n",
    "                echo 'Deploying to PostgreSQL database...'\n",
    "                sh 'python deploy.py'  # Script to deploy database changes\n",
    "            }\n",
    "        }\n",
    "    }\n",
    "\n",
    "    post {\n",
    "        success {\n",
    "            echo 'Deployment successful!'\n",
    "        }\n",
    "        failure {\n",
    "            echo 'Deployment failed.'\n",
    "        }\n",
    "    }\n",
    "}\n"
   ]
  },
  {
   "cell_type": "code",
   "execution_count": null,
   "id": "a834848e",
   "metadata": {},
   "outputs": [],
   "source": []
  }
 ],
 "metadata": {
  "kernelspec": {
   "display_name": "Python 3 (ipykernel)",
   "language": "python",
   "name": "python3"
  },
  "language_info": {
   "codemirror_mode": {
    "name": "ipython",
    "version": 3
   },
   "file_extension": ".py",
   "mimetype": "text/x-python",
   "name": "python",
   "nbconvert_exporter": "python",
   "pygments_lexer": "ipython3",
   "version": "3.9.13"
  }
 },
 "nbformat": 4,
 "nbformat_minor": 5
}
